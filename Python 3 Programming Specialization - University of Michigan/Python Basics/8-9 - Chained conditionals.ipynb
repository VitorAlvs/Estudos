{
 "cells": [
  {
   "cell_type": "markdown",
   "metadata": {},
   "source": [
    "Create one conditional to find whether “false” is in string str1. If so, assign variable output the string “False. You aren’t you?”. Check to see if “true” is in string str1 and if it is then assign “True! You are you!” to the variable output. If neither are in str1, assign “Neither true nor false!” to output."
   ]
  },
  {
   "cell_type": "code",
   "execution_count": 2,
   "metadata": {},
   "outputs": [
    {
     "name": "stdout",
     "output_type": "stream",
     "text": [
      "True! You are you!\n"
     ]
    }
   ],
   "source": [
    "str1 = \"Today you are you! That is truer than true! There is no one alive who is you-er than you!\"\n",
    "\n",
    "if \"false\" in str1:\n",
    "    output = 'False. You aren’t you?'\n",
    "elif \"true\" in str1:\n",
    "    output =  'True! You are you!'\n",
    "else:\n",
    "    output =  'Neither true nor false!'\n",
    "\n",
    "print(output)"
   ]
  },
  {
   "cell_type": "markdown",
   "metadata": {},
   "source": [
    "Create an empty list called resps. Using the list percent_rain, for each percent, if it is above 90, add the string ‘Bring an umbrella.’ to resps, otherwise if it is above 80, add the string ‘Good for the flowers?’ to resps, otherwise if it is above 50, add the string ‘Watch out for clouds!’ to resps, otherwise, add the string ‘Nice day!’ to resps. Note: if you’re sure you’ve got the problem right but it doesn’t pass, then check that you’ve matched up the strings exactly."
   ]
  },
  {
   "cell_type": "code",
   "execution_count": 3,
   "metadata": {},
   "outputs": [
    {
     "name": "stdout",
     "output_type": "stream",
     "text": [
      "['Bring an umbrella', 'Nice day!’', 'Bring an umbrella', 'Watch out for clouds!', 'Nice day!’', 'Nice day!’', 'Watch out for clouds!', 'Good for the flowers?']\n"
     ]
    }
   ],
   "source": [
    "percent_rain = [94.3, 45, 100, 78, 16, 5.3, 79, 86]\n",
    "resps = []\n",
    "\n",
    "for each in percent_rain:\n",
    "    if each > 90:\n",
    "        resps.append('Bring an umbrella.')\n",
    "    elif each > 80:\n",
    "        resps.append('Good for the flowers?')\n",
    "    elif each > 50:\n",
    "        resps.append('Watch out for clouds!')\n",
    "    else:\n",
    "        resps.append('Nice day!')\n",
    "\n",
    "print(resps)"
   ]
  }
 ],
 "metadata": {
  "language_info": {
   "name": "python"
  }
 },
 "nbformat": 4,
 "nbformat_minor": 2
}
