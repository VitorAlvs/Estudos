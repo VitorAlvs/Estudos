{
 "cells": [
  {
   "cell_type": "code",
   "execution_count": 1,
   "metadata": {},
   "outputs": [
    {
     "name": "stdout",
     "output_type": "stream",
     "text": [
      "24.0\n"
     ]
    }
   ],
   "source": [
    "def sub(num1,num2):\n",
    "    if (num1 > num2):\n",
    "        return num1-num2\n",
    "    if (num2 > num1):\n",
    "        return num2 - num1\n",
    "\n",
    "def calc(arg, num1, num2):\n",
    "    if (arg == \"+\"):\n",
    "        return num1 + num2\n",
    "    if (arg == \"-\"):\n",
    "        if (sub(num1, num2) == None):\n",
    "            return 0\n",
    "        if (sub(num1, num2) != None):\n",
    "            return sub(num1, num2)\n",
    "    if (arg == \"*\"):\n",
    "        return num1 * num2\n",
    "    if (arg == \"/\"):\n",
    "        return num1 / num2\n",
    "    else:\n",
    "        return \"Digite uma operação válida\"\n",
    "\n",
    "arg = input(\"Digite a operação (+ - * /): \")\n",
    "num1 = float(input(\"Digite o primeiro número: \"))\n",
    "num2 = float(input(\"Digite o segundo número: \"))\n",
    "\n",
    "\n",
    "print(calc(arg, num1, num2))"
   ]
  }
 ],
 "metadata": {
  "kernelspec": {
   "display_name": "Python 3",
   "language": "python",
   "name": "python3"
  },
  "language_info": {
   "codemirror_mode": {
    "name": "ipython",
    "version": 3
   },
   "file_extension": ".py",
   "mimetype": "text/x-python",
   "name": "python",
   "nbconvert_exporter": "python",
   "pygments_lexer": "ipython3",
   "version": "3.11.5"
  }
 },
 "nbformat": 4,
 "nbformat_minor": 2
}
