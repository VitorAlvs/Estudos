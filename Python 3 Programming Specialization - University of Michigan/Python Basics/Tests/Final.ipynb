{
 "cells": [
  {
   "cell_type": "markdown",
   "metadata": {},
   "source": [
    "<p>Below are a set of scores that students have received in the past semester. Write code to determine how many are 90 or above and assign that result to the value <code class=\"docutils literal notranslate\"><span class=\"pre\">a_scores</span></code>.</p>"
   ]
  },
  {
   "cell_type": "code",
   "execution_count": 12,
   "metadata": {},
   "outputs": [
    {
     "name": "stdout",
     "output_type": "stream",
     "text": [
      "['67', '80', '90', '78', '93', '20', '79', '89', '96', '97', '92', '88', '79', '68', '58', '90', '98', '100', '79', '74', '83', '88', '80', '86', '85', '70', '90', '100']\n",
      "10\n"
     ]
    }
   ],
   "source": [
    "scores = \"67 80 90 78 93 20 79 89 96 97 92 88 79 68 58 90 98 100 79 74 83 88 80 86 85 70 90 100\"\n",
    "scores = scores.split(\" \")\n",
    "print(scores)\n",
    "\n",
    "a_scores = 0\n",
    "\n",
    "for each in scores:\n",
    "    if (int(each) >= 90):\n",
    "        a_scores += 1\n",
    "\n",
    "print(a_scores)"
   ]
  },
  {
   "cell_type": "markdown",
   "metadata": {},
   "source": [
    "<p>Write code that uses the string stored in <code class=\"docutils literal notranslate\"><span class=\"pre\">org</span></code> and creates an acronym which is assigned to the variable <code class=\"docutils literal notranslate\"><span class=\"pre\">acro</span></code>. Only the first letter of each word should be used, each letter in the acronym should be a capital letter, and there should be nothing to separate the letters of the acronym. Words that should not be included in the acronym are stored in the list <code class=\"docutils literal notranslate\"><span class=\"pre\">stopwords</span></code>. For example, if <code class=\"docutils literal notranslate\"><span class=\"pre\">org</span></code> was assigned the string “hello to world” then the resulting acronym should be “HW”.</p>"
   ]
  },
  {
   "cell_type": "code",
   "execution_count": 16,
   "metadata": {},
   "outputs": [
    {
     "name": "stdout",
     "output_type": "stream",
     "text": [
      "['The', 'organization', 'for', 'health,', 'safety,', 'and', 'education']\n",
      "OHSE\n"
     ]
    }
   ],
   "source": [
    "stopwords = ['to', 'a', 'for', 'by', 'an', 'am', 'the', 'so', 'it', 'and', \"The\"]\n",
    "org = \"The organization for health, safety, and education\"\n",
    "\n",
    "acro = \"\"\n",
    "\n",
    "org = org.split(\" \")\n",
    "print(org)\n",
    "\n",
    "for each in org:\n",
    "    if each not in stopwords:\n",
    "        acro = acro + each[0]\n",
    "\n",
    "acro = acro.upper()\n",
    "print(acro)"
   ]
  },
  {
   "cell_type": "markdown",
   "metadata": {},
   "source": [
    "<p>Write code that uses the string stored in <code class=\"docutils literal notranslate\"><span class=\"pre\">sent</span></code> and creates an acronym which is assigned to the variable <code class=\"docutils literal notranslate\"><span class=\"pre\">acro</span></code>. The first two letters of each word should be used, each letter in the acronym should be a capital letter, and each element of the acronym should be separated by a “. ” (dot and space). Words that should not be included in the acronym are stored in the list <code class=\"docutils literal notranslate\"><span class=\"pre\">stopwords</span></code>. For example, if <code class=\"docutils literal notranslate\"><span class=\"pre\">sent</span></code> was assigned the string “height and ewok wonder” then the resulting acronym should be “HE. EW. WO”.</p>"
   ]
  },
  {
   "cell_type": "code",
   "execution_count": 22,
   "metadata": {},
   "outputs": [
    {
     "name": "stdout",
     "output_type": "stream",
     "text": [
      "['The', 'water', 'earth', 'and', 'air', 'are', 'vital']\n",
      "WA. EA. AI. AR. VI\n"
     ]
    }
   ],
   "source": [
    "stopwords = ['to', 'a', 'for', 'by', 'an', 'am', 'the', 'so', 'it', 'and', 'The']\n",
    "sent = \"The water earth and air are vital\"\n",
    "\n",
    "acro = \"\"\n",
    "\n",
    "sent = sent.split(\" \")\n",
    "print(sent)\n",
    "\n",
    "for each in sent:\n",
    "    if each not in stopwords:\n",
    "        acro = acro + each[:2] + \". \"\n",
    "acro = acro[:-2]\n",
    "acro = acro.upper()\n",
    "print(acro)"
   ]
  },
  {
   "cell_type": "markdown",
   "metadata": {},
   "source": [
    "<p>A palindrome is a phrase that, if reversed, would read the exact same. Write code that checks if <code class=\"docutils literal notranslate\"><span class=\"pre\">p_phrase</span></code> is a palindrome by reversing it and then checking if the reversed version is equal to the original. Assign the reversed version of <code class=\"docutils literal notranslate\"><span class=\"pre\">p_phrase</span></code> to the variable <code class=\"docutils literal notranslate\"><span class=\"pre\">r_phrase</span></code> so that we can check your work.</p>"
   ]
  },
  {
   "cell_type": "code",
   "execution_count": 45,
   "metadata": {},
   "outputs": [
    {
     "name": "stdout",
     "output_type": "stream",
     "text": [
      "False\n",
      "was it a car or a cat I saw\n",
      "was I tac a ro rac a ti saw\n"
     ]
    }
   ],
   "source": [
    "p_phrase = \"was it a car or a cat I saw\"\n",
    "r_phrase = p_phrase[::-1]\n",
    "\n",
    "print(p_phrase == r_phrase)\n",
    "\n",
    "\n",
    "print(p_phrase)\n",
    "print(r_phrase)\n"
   ]
  },
  {
   "cell_type": "markdown",
   "metadata": {},
   "source": [
    "<p>Provided is a list of data about a store’s inventory where each item in the list represents the name of an item, how much is in stock, and how much it costs. Print out each item in the list with the same formatting, using the .format method (not string concatenation). For example, the first print statment should read <code class=\"docutils literal notranslate\"><span class=\"pre\">The</span> <span class=\"pre\">store</span> <span class=\"pre\">has</span> <span class=\"pre\">12</span> <span class=\"pre\">shoes,</span> <span class=\"pre\">each</span> <span class=\"pre\">for</span> <span class=\"pre\">29.99</span> <span class=\"pre\">USD.</span></code></p>"
   ]
  },
  {
   "cell_type": "code",
   "execution_count": 55,
   "metadata": {},
   "outputs": [
    {
     "name": "stdout",
     "output_type": "stream",
     "text": [
      "The store has 12 shoes, each for 29.99 USD\n",
      "The store has 20 shirts, each for 9.99 USD\n",
      "The store has 25 sweatpants, each for 15.00 USD\n",
      "The store has 13 scarves, each for 7.75 USD\n"
     ]
    }
   ],
   "source": [
    "inventory = [\"shoes, 12, 29.99\", \"shirts, 20, 9.99\", \"sweatpants, 25, 15.00\", \"scarves, 13, 7.75\"]\n",
    "\n",
    "for each in inventory:\n",
    "    new = each.split(\", \")\n",
    "    print(\"The store has {quant} {item}, each for {price} USD.\".format(quant = new[1], item = new[0], price = new[2]))"
   ]
  }
 ],
 "metadata": {
  "kernelspec": {
   "display_name": "Python 3",
   "language": "python",
   "name": "python3"
  },
  "language_info": {
   "codemirror_mode": {
    "name": "ipython",
    "version": 3
   },
   "file_extension": ".py",
   "mimetype": "text/x-python",
   "name": "python",
   "nbconvert_exporter": "python",
   "pygments_lexer": "ipython3",
   "version": "3.12.1"
  }
 },
 "nbformat": 4,
 "nbformat_minor": 2
}
