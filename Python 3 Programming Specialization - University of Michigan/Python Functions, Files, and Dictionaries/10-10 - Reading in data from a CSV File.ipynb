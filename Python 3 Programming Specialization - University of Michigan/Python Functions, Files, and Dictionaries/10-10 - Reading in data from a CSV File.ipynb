{
 "cells": [
  {
   "cell_type": "markdown",
   "metadata": {},
   "source": [
    "<p>We are able to read in CSV files the same way we have with other text files. Because of the standardized structure of the data, there is a common pattern for processing it. To practice this,\n",
    "we will be using data about olympic events.</p>\n",
    "<p>Typically, CSV files will have a header as the first line, which contains column names. Then,\n",
    "each following row in the file will contain data that corresponds to the appropriate columns.</p>\n",
    "<p>All file methods that we have mentioned - <code class=\"docutils literal notranslate\"><span class=\"pre\">read</span></code>, <code class=\"docutils literal notranslate\"><span class=\"pre\">readline</span></code>, and <code class=\"docutils literal notranslate\"><span class=\"pre\">readlines</span></code>, and simply iterating over the file object itself - will work on CSV files. In our examples, we will iterate over the lines. Because the values on each line are separated with commas, we can use the <code class=\"docutils literal notranslate\"><span class=\"pre\">.split()</span></code> method to parse each line into a collection of separate value.</p>"
   ]
  },
  {
   "cell_type": "code",
   "execution_count": 2,
   "metadata": {},
   "outputs": [
    {
     "name": "stdout",
     "output_type": "stream",
     "text": [
      "['Name', 'Sex', 'Age', 'Team', 'Event', 'Medal']\n",
      "Edgar Lindenau Aabye: Tug-Of-War - Gold\n",
      "Arvo Ossian Aaltonen: Swimming - Bronze\n",
      "Arvo Ossian Aaltonen: Swimming - Bronze\n",
      "Juhamatti Tapio Aaltonen: Ice Hockey - Bronze\n",
      "Paavo Johannes Aaltonen: Gymnastics - Bronze\n",
      "Paavo Johannes Aaltonen: Gymnastics - Gold\n",
      "Paavo Johannes Aaltonen: Gymnastics - Gold\n",
      "Paavo Johannes Aaltonen: Gymnastics - Gold\n",
      "Paavo Johannes Aaltonen: Gymnastics - Bronze\n"
     ]
    }
   ],
   "source": [
    "fileconnection = open(\"10-4Doc1.txt\", 'r')\n",
    "lines = fileconnection.readlines()\n",
    "header = lines[0]\n",
    "field_names = header.strip().split(',')\n",
    "print(field_names)\n",
    "for row in lines[1:]:\n",
    "    vals = row.strip().split(',')\n",
    "    if vals[5] != \"NA\":\n",
    "        print(\"{}: {} - {}\".format(\n",
    "                vals[0],\n",
    "                vals[4],\n",
    "                vals[5]))"
   ]
  }
 ],
 "metadata": {
  "kernelspec": {
   "display_name": "Python 3",
   "language": "python",
   "name": "python3"
  },
  "language_info": {
   "codemirror_mode": {
    "name": "ipython",
    "version": 3
   },
   "file_extension": ".py",
   "mimetype": "text/x-python",
   "name": "python",
   "nbconvert_exporter": "python",
   "pygments_lexer": "ipython3",
   "version": "3.12.1"
  }
 },
 "nbformat": 4,
 "nbformat_minor": 2
}
