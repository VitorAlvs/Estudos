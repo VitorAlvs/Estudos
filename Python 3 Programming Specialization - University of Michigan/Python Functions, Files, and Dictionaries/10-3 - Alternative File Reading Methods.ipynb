{
 "cells": [
  {
   "cell_type": "markdown",
   "metadata": {},
   "source": [
    "<p>Using the file <code class=\"docutils literal notranslate\"><span class=\"pre\">school_prompt2.txt</span></code>, find the number of characters in the file and assign that value to the variable <code class=\"docutils literal notranslate\"><span class=\"pre\">num_char</span></code>.</p>"
   ]
  },
  {
   "cell_type": "code",
   "execution_count": 9,
   "metadata": {},
   "outputs": [
    {
     "name": "stdout",
     "output_type": "stream",
     "text": [
      "536\n"
     ]
    }
   ],
   "source": [
    "fileref = open(\"10-3Doc1.txt\", \"r\")\n",
    "read = fileref.read()\n",
    "\n",
    "num_char = len(read)\n",
    "print(num_char)"
   ]
  },
  {
   "cell_type": "markdown",
   "metadata": {},
   "source": [
    "<p>Find the number of lines in the file, <code class=\"docutils literal notranslate\"><span class=\"pre\">travel_plans2.txt</span></code>, and assign it to the variable <code class=\"docutils literal notranslate\"><span class=\"pre\">num_lines</span></code>.</p>"
   ]
  },
  {
   "cell_type": "code",
   "execution_count": 14,
   "metadata": {},
   "outputs": [
    {
     "name": "stdout",
     "output_type": "stream",
     "text": [
      "11\n"
     ]
    }
   ],
   "source": [
    "fileref = open('10-3Doc2.txt', 'r')\n",
    "lines = fileref.readlines()\n",
    "num_lines = len(lines)\n",
    "\n",
    "print(num_lines)\n"
   ]
  },
  {
   "cell_type": "markdown",
   "metadata": {},
   "source": [
    "<p>Create a string called <code class=\"docutils literal notranslate\"><span class=\"pre\">first_forty</span></code> that is comprised of the first 40 characters of <code class=\"docutils literal notranslate\"><span class=\"pre\">emotion_words2.txt</span></code>.</p>\n"
   ]
  },
  {
   "cell_type": "code",
   "execution_count": 17,
   "metadata": {},
   "outputs": [
    {
     "name": "stdout",
     "output_type": "stream",
     "text": [
      "Sad upset blue down melancholy somber bi\n"
     ]
    }
   ],
   "source": [
    "fileref = open(\"10-3Doc3.txt\", \"r\")\n",
    "read = fileref.read()\n",
    "first_forty = read[:40]\n",
    "print(first_forty)"
   ]
  }
 ],
 "metadata": {
  "kernelspec": {
   "display_name": "Python 3",
   "language": "python",
   "name": "python3"
  },
  "language_info": {
   "codemirror_mode": {
    "name": "ipython",
    "version": 3
   },
   "file_extension": ".py",
   "mimetype": "text/x-python",
   "name": "python",
   "nbconvert_exporter": "python",
   "pygments_lexer": "ipython3",
   "version": "3.12.1"
  }
 },
 "nbformat": 4,
 "nbformat_minor": 2
}
