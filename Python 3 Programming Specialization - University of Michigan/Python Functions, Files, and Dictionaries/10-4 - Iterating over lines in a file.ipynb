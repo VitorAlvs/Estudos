{
 "cells": [
  {
   "cell_type": "markdown",
   "metadata": {},
   "source": [
    "<p>To make the code a little simpler, and to allow for more efficient processing, Python provides a built-in way to\n",
    "iterate through the contents of a file one line at a time, without first reading them all into a list. Some students find this confusing initially, so we don’t recommend doing it this way, until you get a\n",
    "little more comfortable with Python. But this idiom is preferred by Python programmers, so you should be prepared\n",
    "to read it. And when you start dealing with big files, you may notice the efficiency gains of using it.</p>"
   ]
  },
  {
   "cell_type": "code",
   "execution_count": 1,
   "metadata": {},
   "outputs": [
    {
     "name": "stdout",
     "output_type": "stream",
     "text": [
      "Name is from Team and is on the roster for Event\n",
      "A Dijiang is from China and is on the roster for Basketball\n",
      "A Lamusi is from China and is on the roster for Judo\n",
      "Gunnar Nielsen Aaby is from Denmark and is on the roster for Football\n",
      "Edgar Lindenau Aabye is from Denmark/Sweden and is on the roster for Tug-Of-War\n",
      "Christine Jacoba Aaftink is from Netherlands and is on the roster for Speed Skating\n",
      "Christine Jacoba Aaftink is from Netherlands and is on the roster for Speed Skating\n",
      "Christine Jacoba Aaftink is from Netherlands and is on the roster for Speed Skating\n",
      "Christine Jacoba Aaftink is from Netherlands and is on the roster for Speed Skating\n",
      "Christine Jacoba Aaftink is from Netherlands and is on the roster for Speed Skating\n",
      "Christine Jacoba Aaftink is from Netherlands and is on the roster for Speed Skating\n",
      "Per Knut Aaland is from United States and is on the roster for Cross Country Skiing\n",
      "Per Knut Aaland is from United States and is on the roster for Cross Country Skiing\n",
      "Per Knut Aaland is from United States and is on the roster for Cross Country Skiing\n",
      "Per Knut Aaland is from United States and is on the roster for Cross Country Skiing\n",
      "Per Knut Aaland is from United States and is on the roster for Cross Country Skiing\n",
      "Per Knut Aaland is from United States and is on the roster for Cross Country Skiing\n",
      "Per Knut Aaland is from United States and is on the roster for Cross Country Skiing\n",
      "Per Knut Aaland is from United States and is on the roster for Cross Country Skiing\n",
      "John Aalberg is from United States and is on the roster for Cross Country Skiing\n",
      "John Aalberg is from United States and is on the roster for Cross Country Skiing\n",
      "John Aalberg is from United States and is on the roster for Cross Country Skiing\n",
      "John Aalberg is from United States and is on the roster for Cross Country Skiing\n",
      "John Aalberg is from United States and is on the roster for Cross Country Skiing\n",
      "John Aalberg is from United States and is on the roster for Cross Country Skiing\n",
      "John Aalberg is from United States and is on the roster for Cross Country Skiing\n",
      "John Aalberg is from United States and is on the roster for Cross Country Skiing\n",
      "\"Cornelia \"\"Cor\"\" Aalten (-Strannood)\" is from Netherlands and is on the roster for Athletics\n",
      "\"Cornelia \"\"Cor\"\" Aalten (-Strannood)\" is from Netherlands and is on the roster for Athletics\n",
      "Antti Sami Aalto is from Finland and is on the roster for Ice Hockey\n",
      "\"Einar Ferdinand \"\"Einari\"\" Aalto\" is from Finland and is on the roster for Swimming\n",
      "Jorma Ilmari Aalto is from Finland and is on the roster for Cross Country Skiing\n",
      "Jyri Tapani Aalto is from Finland and is on the roster for Badminton\n",
      "Minna Maarit Aalto is from Finland and is on the roster for Sailing\n",
      "Minna Maarit Aalto is from Finland and is on the roster for Sailing\n",
      "Pirjo Hannele Aalto (Mattila-) is from Finland and is on the roster for Biathlon\n",
      "Arvo Ossian Aaltonen is from Finland and is on the roster for Swimming\n",
      "Arvo Ossian Aaltonen is from Finland and is on the roster for Swimming\n",
      "Arvo Ossian Aaltonen is from Finland and is on the roster for Swimming\n",
      "Arvo Ossian Aaltonen is from Finland and is on the roster for Swimming\n",
      "Arvo Ossian Aaltonen is from Finland and is on the roster for Swimming\n",
      "Juhamatti Tapio Aaltonen is from Finland and is on the roster for Ice Hockey\n",
      "Paavo Johannes Aaltonen is from Finland and is on the roster for Gymnastics\n",
      "Paavo Johannes Aaltonen is from Finland and is on the roster for Gymnastics\n",
      "Paavo Johannes Aaltonen is from Finland and is on the roster for Gymnastics\n",
      "Paavo Johannes Aaltonen is from Finland and is on the roster for Gymnastics\n",
      "Paavo Johannes Aaltonen is from Finland and is on the roster for Gymnastics\n",
      "Paavo Johannes Aaltonen is from Finland and is on the roster for Gymnastics\n",
      "Paavo Johannes Aaltonen is from Finland and is on the roster for Gymnastics\n",
      "Paavo Johannes Aaltonen is from Finland and is on the roster for Gymnastics\n",
      "Paavo Johannes Aaltonen is from Finland and is on the roster for Gymnastics\n",
      "Paavo Johannes Aaltonen is from Finland and is on the roster for Gymnastics\n",
      "Paavo Johannes Aaltonen is from Finland and is on the roster for Gymnastics\n",
      "Paavo Johannes Aaltonen is from Finland and is on the roster for Gymnastics\n",
      "Paavo Johannes Aaltonen is from Finland and is on the roster for Gymnastics\n",
      "Paavo Johannes Aaltonen is from Finland and is on the roster for Gymnastics\n",
      "Paavo Johannes Aaltonen is from Finland and is on the roster for Gymnastics\n",
      "Paavo Johannes Aaltonen is from Finland and is on the roster for Gymnastics\n",
      "Timo Antero Aaltonen is from Finland and is on the roster for Athletics\n",
      "Win Valdemar Aaltonen is from Finland and is on the roster for Art Competitions\n"
     ]
    }
   ],
   "source": [
    "olypmicsfile = open(\"10-4Doc1.txt\", \"r\")\n",
    "\n",
    "for aline in olypmicsfile:\n",
    "    values = aline.split(\",\")\n",
    "    print(values[0], \"is from\", values[3], \"and is on the roster for\", values[4])\n",
    "\n",
    "olypmicsfile.close()\n"
   ]
  },
  {
   "cell_type": "markdown",
   "metadata": {},
   "source": [
    "<p>Write code to find out how many lines are in the file <code class=\"docutils literal notranslate\"><span class=\"pre\">emotion_words.txt</span></code> as shown above. Save this value to the variable <code class=\"docutils literal notranslate\"><span class=\"pre\">num_lines</span></code>. Do not use the len method.</p>"
   ]
  },
  {
   "cell_type": "code",
   "execution_count": 4,
   "metadata": {},
   "outputs": [
    {
     "name": "stdout",
     "output_type": "stream",
     "text": [
      "['Sad upset blue down melancholy somber bitter troubled\\n', 'Angry mad enraged irate irritable wrathful outraged infuriated\\n', 'Happy cheerful content elated joyous delighted lively glad\\n', 'Confused disoriented puzzled perplexed dazed befuddled\\n', 'Excited eager thrilled delighted\\n', 'Scared afraid fearful panicked terrified petrified startled\\n', 'Nervous anxious jittery jumpy tense uneasy apprehensive']\n",
      "7\n"
     ]
    }
   ],
   "source": [
    "emotionfile = open(\"10-3Doc3.txt\", \"r\")\n",
    "lines = emotionfile.readlines()\n",
    "num_lines = 0\n",
    "\n",
    "for each in lines:\n",
    "    num_lines += 1\n",
    "\n",
    "print(lines)\n",
    "print(num_lines)"
   ]
  }
 ],
 "metadata": {
  "kernelspec": {
   "display_name": "Python 3",
   "language": "python",
   "name": "python3"
  },
  "language_info": {
   "codemirror_mode": {
    "name": "ipython",
    "version": 3
   },
   "file_extension": ".py",
   "mimetype": "text/x-python",
   "name": "python",
   "nbconvert_exporter": "python",
   "pygments_lexer": "ipython3",
   "version": "3.12.1"
  }
 },
 "nbformat": 4,
 "nbformat_minor": 2
}
