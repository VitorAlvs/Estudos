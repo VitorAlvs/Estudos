{
 "cells": [
  {
   "cell_type": "markdown",
   "metadata": {},
   "source": [
    "First, we will need to open the file. Afterwards, we will iterate through the numbers 1 through 12, and square each one of them. This new number will need to be converted to a string, and then it can be written into the file.\n",
    "\n",
    "The program below solves part of the problem. We first want to make sure that we’ve written the correct code to calculate the square of each number."
   ]
  },
  {
   "cell_type": "code",
   "execution_count": 1,
   "metadata": {},
   "outputs": [
    {
     "name": "stdout",
     "output_type": "stream",
     "text": [
      "1\n",
      "4\n",
      "9\n",
      "16\n",
      "25\n",
      "36\n",
      "49\n",
      "64\n",
      "81\n",
      "100\n",
      "121\n",
      "144\n"
     ]
    }
   ],
   "source": [
    "for number in range(1, 13):\n",
    "    square = number * number\n",
    "    print(square)"
   ]
  },
  {
   "cell_type": "markdown",
   "metadata": {},
   "source": [
    "<p>When we run this program, we see the lines of output on the screen. Once we are satisfied that\n",
    "it is creating the appropriate output, the next step is to add the necessary pieces to produce\n",
    "an output file and write the data lines to it. To start, we need to open a new output file by\n",
    "calling the <code class=\"docutils literal notranslate\"><span class=\"pre\">open</span></code> function, <code class=\"docutils literal notranslate\"><span class=\"pre\">outfile</span> <span class=\"pre\">=</span> <span class=\"pre\">open(\"squared_numbers.txt\",'w')</span></code>, using the <code class=\"docutils literal notranslate\"><span class=\"pre\">'w'</span></code>\n",
    "flag.  We can choose any file name we like. If the file does not exist, it will be created.\n",
    "However, if the file does exist, it will be reinitialized as empty and you will lose any\n",
    "previous contents.</p>\n",
    "<p>Once the file has been created, we just need to call the <code class=\"docutils literal notranslate\"><span class=\"pre\">write</span></code> method passing the string\n",
    "that we wish to add to the file. In this case, the string is already being printed so we will\n",
    "just change the <code class=\"docutils literal notranslate\"><span class=\"pre\">print</span></code> into a call to the <code class=\"docutils literal notranslate\"><span class=\"pre\">write</span></code> method. However, there is an additional\n",
    "step to take, since the write method can only accept a string as input. We’ll need to convert\n",
    "the number to a string. Then, we just need to add one extra character to the string. The\n",
    "newline character needs to be concatenated to the end of the line. The entire line now becomes\n",
    "<code class=\"docutils literal notranslate\"><span class=\"pre\">outfile.write(str(square)+</span> <span class=\"pre\">'\\n')</span></code>. The print statement automatically outputs a newline\n",
    "character after whatever text it outputs, but the write method does not do that automatically.\n",
    "We also need to close the file when we are done.</p>\n",
    "<p>The complete program is shown below.</p>"
   ]
  },
  {
   "cell_type": "code",
   "execution_count": 4,
   "metadata": {},
   "outputs": [
    {
     "name": "stdout",
     "output_type": "stream",
     "text": [
      "1\n",
      "4\n",
      "9\n",
      "16\n",
      "2\n"
     ]
    }
   ],
   "source": [
    "filename = \"10-8Doc1.txt\"\n",
    "outfile = open(filename, \"w\")\n",
    "\n",
    "for number in range(1, 13):\n",
    "    square = number * number\n",
    "    outfile.write(str(square) + \"\\n\")\n",
    "\n",
    "outfile.close()\n",
    "\n",
    "infile = open(filename, \"r\")\n",
    "print(infile.read()[:10])\n",
    "infile.close()\n"
   ]
  }
 ],
 "metadata": {
  "kernelspec": {
   "display_name": "Python 3",
   "language": "python",
   "name": "python3"
  },
  "language_info": {
   "codemirror_mode": {
    "name": "ipython",
    "version": 3
   },
   "file_extension": ".py",
   "mimetype": "text/x-python",
   "name": "python",
   "nbconvert_exporter": "python",
   "pygments_lexer": "ipython3",
   "version": "3.12.1"
  }
 },
 "nbformat": 4,
 "nbformat_minor": 2
}
