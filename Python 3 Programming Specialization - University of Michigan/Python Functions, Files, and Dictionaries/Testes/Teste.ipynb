{
 "cells": [
  {
   "cell_type": "code",
   "execution_count": 212,
   "metadata": {},
   "outputs": [],
   "source": [
    "#Abrir doc\n",
    "doc = open(\"Teste1.txt\", \"r\", encoding=\"utf-8\")\n",
    "#Ler doc\n",
    "read_doc = doc.read()\n",
    "#Dividir as linhas em lista\n",
    "lines = doc.readlines()\n",
    "split = read_doc.split(\"\\n\")\n",
    "#Definir cabeçalho\n",
    "header = split[0].split(\"\\t\")\n",
    "header = header[0], header[2]\n",
    "#Definir conteúdo\n",
    "content = split[1:]\n",
    "#Todos os usuários\n",
    "users = []\n",
    "#Todos usuários ativos/habilitados que não são BR-iT\n",
    "active_usr = []\n",
    "quant_active_usr = 0\n",
    "#Lista de usuários BR-iT\n",
    "brit_Usr = {'aluvizeto', 'cburanelo', 'frodrigues', 'jvitoriano', 'jsantos', 'lsantos', 'rmariano', 'segoncalves', 'userMSCD', 'M4LawAdmin', 'csousa', 'M4Law Tester', 'kribeiro'}\n",
    "\n",
    "#Transformar string de dados de login em lista de dados de login\n",
    "for each in content:\n",
    "    users.append(each.split(\"\\t\"))\n",
    "\n",
    "#Separar usuários active_usr\n",
    "for each in users:\n",
    "    if len(each) >= 4:\n",
    "        desabilitado = len(each[3])\n",
    "        conta_login = each[0]\n",
    "        if desabilitado == 0 and conta_login not in brit_Usr:\n",
    "            Usr = each[0], each[2]\n",
    "            active_usr.append(Usr)\n",
    "            quant_active_usr += 1\n",
    "\n",
    "\n",
    "import csv\n",
    "\n",
    "with open('usuários.csv', 'w', newline='', encoding='utf-8') as csvfile:\n",
    "    campos_head = list(header)\n",
    "    writer = csv.DictWriter(csvfile, fieldnames = campos_head)\n",
    "\n",
    "    \n",
    "    writer.writeheader()\n",
    "    for each in active_usr:\n",
    "        loginacc = str(each[0])\n",
    "        name = str(each[1])\n",
    "        writer.writerow({campos_head[0]: loginacc, campos_head[1]: name})\n"
   ]
  }
 ],
 "metadata": {
  "kernelspec": {
   "display_name": "Python 3",
   "language": "python",
   "name": "python3"
  },
  "language_info": {
   "codemirror_mode": {
    "name": "ipython",
    "version": 3
   },
   "file_extension": ".py",
   "mimetype": "text/x-python",
   "name": "python",
   "nbconvert_exporter": "python",
   "pygments_lexer": "ipython3",
   "version": "3.12.1"
  }
 },
 "nbformat": 4,
 "nbformat_minor": 2
}
