{
 "cells": [
  {
   "cell_type": "markdown",
   "metadata": {},
   "source": [
    "Create a new list of the 6th through 13th elements of lst (eight items in all) and assign it to the variable output."
   ]
  },
  {
   "cell_type": "code",
   "execution_count": 1,
   "metadata": {},
   "outputs": [
    {
     "name": "stdout",
     "output_type": "stream",
     "text": [
      "['shine', 'marsh', 'winter', 'donkey', 'rain', ['Rio', 'Beijing', 'London'], [1, 2, 3], 'gold']\n"
     ]
    }
   ],
   "source": [
    "lst = [\"swimming\", 2, \"water bottle\", 44, \"lollipop\", \"shine\", \"marsh\", \"winter\", \"donkey\", \"rain\", [\"Rio\", \"Beijing\", \"London\"], [1,2,3], \"gold\", \"bronze\", \"silver\", \"mathematician\", \"scientist\", \"actor\", \"actress\", \"win\", \"cell phone\", \"leg\", \"running\", \"horse\", \"socket\", \"plug\", [\"Phelps\", \"le Clos\", \"Lochte\"], \"drink\", 22, \"happyfeet\", \"penguins\"]\n",
    "output = lst[5:13]\n",
    "\n",
    "print(output)"
   ]
  },
  {
   "cell_type": "markdown",
   "metadata": {},
   "source": [
    "Create a variable output and assign to it a list whose elements are the words in the string str1."
   ]
  },
  {
   "cell_type": "code",
   "execution_count": 2,
   "metadata": {},
   "outputs": [
    {
     "name": "stdout",
     "output_type": "stream",
     "text": [
      "['OH', 'THE', 'PLACES', \"YOU'LL\", 'GO']\n"
     ]
    }
   ],
   "source": [
    "str1 = \"OH THE PLACES YOU'LL GO\"\n",
    "output = str1.split()\n",
    "\n",
    "print(output)"
   ]
  }
 ],
 "metadata": {
  "kernelspec": {
   "display_name": "Python 3",
   "language": "python",
   "name": "python3"
  },
  "language_info": {
   "codemirror_mode": {
    "name": "ipython",
    "version": 3
   },
   "file_extension": ".py",
   "mimetype": "text/x-python",
   "name": "python",
   "nbconvert_exporter": "python",
   "pygments_lexer": "ipython3",
   "version": "3.12.1"
  }
 },
 "nbformat": 4,
 "nbformat_minor": 2
}
