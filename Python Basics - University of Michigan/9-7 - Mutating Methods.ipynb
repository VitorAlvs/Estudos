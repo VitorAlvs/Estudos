{
 "cells": [
  {
   "cell_type": "markdown",
   "metadata": {},
   "source": [
    "<h1>9.7.1. List Methods</h1>\n",
    "The dot operator can also be used to access built-in methods of list objects. append is a list method which adds the argument passed to it to the end of the list. Continuing with this example, we show several other list methods. Many of them are easy to understand."
   ]
  },
  {
   "cell_type": "code",
   "execution_count": 1,
   "metadata": {},
   "outputs": [
    {
     "name": "stdout",
     "output_type": "stream",
     "text": [
      "[5, 27, 3, 12]\n",
      "[5, 12, 27, 3, 12]\n",
      "2\n",
      "3\n",
      "1\n",
      "[12, 3, 27, 12, 5]\n",
      "[3, 5, 12, 12, 27]\n",
      "[3, 12, 12, 27]\n",
      "27\n",
      "[3, 12, 12]\n"
     ]
    }
   ],
   "source": [
    "mylist = []\n",
    "mylist.append(5)\n",
    "mylist.append(27)\n",
    "mylist.append(3)\n",
    "mylist.append(12)\n",
    "print(mylist)\n",
    "\n",
    "mylist.insert(1, 12)\n",
    "print(mylist)\n",
    "print(mylist.count(12))\n",
    "\n",
    "print(mylist.index(3))\n",
    "print(mylist.count(5))\n",
    "\n",
    "mylist.reverse()\n",
    "print(mylist)\n",
    "\n",
    "mylist.sort()\n",
    "print(mylist)\n",
    "\n",
    "mylist.remove(5)\n",
    "print(mylist)\n",
    "\n",
    "lastitem = mylist.pop()\n",
    "print(lastitem)\n",
    "print(mylist)\n"
   ]
  }
 ],
 "metadata": {
  "kernelspec": {
   "display_name": "Python 3",
   "language": "python",
   "name": "python3"
  },
  "language_info": {
   "codemirror_mode": {
    "name": "ipython",
    "version": 3
   },
   "file_extension": ".py",
   "mimetype": "text/x-python",
   "name": "python",
   "nbconvert_exporter": "python",
   "pygments_lexer": "ipython3",
   "version": "3.12.1"
  }
 },
 "nbformat": 4,
 "nbformat_minor": 2
}
