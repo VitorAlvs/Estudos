{
 "cells": [
  {
   "cell_type": "markdown",
   "metadata": {},
   "source": [
    "There are a wide variety of methods for string objects. Try the following program."
   ]
  },
  {
   "cell_type": "code",
   "execution_count": 1,
   "metadata": {},
   "outputs": [
    {
     "name": "stdout",
     "output_type": "stream",
     "text": [
      "HELLO, WORLD\n",
      "hello, world\n",
      "Hello, World\n"
     ]
    }
   ],
   "source": [
    "ss = \"Hello, World\"\n",
    "print(ss.upper())\n",
    "\n",
    "tt = ss.lower()\n",
    "print(tt)\n",
    "print(ss)\n"
   ]
  },
  {
   "cell_type": "markdown",
   "metadata": {},
   "source": [
    "You should experiment with these methods so that you understand what they do. Note once again that the methods that return strings do not change the original. You can also consult the Python documentation for strings."
   ]
  },
  {
   "cell_type": "markdown",
   "metadata": {},
   "source": [
    "\n",
    "<table>\n",
    "    <tr>\n",
    "        <th>Method</th>\n",
    "        <th>Parameters</th>\n",
    "        <th>Description</th>\n",
    "    </tr>\n",
    "    <tr>\n",
    "        <td>upper</td>\n",
    "        <td>none</td>\n",
    "        <td>Returns a string in all uppercase</td>\n",
    "    </tr>\n",
    "    <tr>\n",
    "        <td>lower</td>\n",
    "        <td>none</td>\n",
    "        <td>Returns a string in all lowercase</td>\n",
    "    </tr>\n",
    "    <tr>\n",
    "        <td>index</td>\n",
    "        <td>item</td>\n",
    "        <td>Returns the leftmost index where the substring item is found and causes a runtime error if item is not found</td>\n",
    "    </tr>\n",
    "    <tr>\n",
    "        <td>strip</td>\n",
    "        <td>none</td>\n",
    "        <td>Returns a string with the leading and trailing whitespace removed</td>\n",
    "    </tr>\n",
    "    <tr>\n",
    "        <td>replace</td>\n",
    "        <td>old, new</td>\n",
    "        <td>Replaces all occurrences of old substring with new</td>\n",
    "    </tr>\n",
    "    <tr>\n",
    "        <td>format</td>\n",
    "        <td>substitutions</td>\n",
    "        <td>Involved! See String Format Method, below</td>\n",
    "    </tr>\n",
    "</table>\n",
    "\n"
   ]
  }
 ],
 "metadata": {
  "kernelspec": {
   "display_name": "Python 3",
   "language": "python",
   "name": "python3"
  },
  "language_info": {
   "codemirror_mode": {
    "name": "ipython",
    "version": 3
   },
   "file_extension": ".py",
   "mimetype": "text/x-python",
   "name": "python",
   "nbconvert_exporter": "python",
   "pygments_lexer": "ipython3",
   "version": "3.12.1"
  }
 },
 "nbformat": 4,
 "nbformat_minor": 2
}
